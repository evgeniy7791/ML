{
 "cells": [
  {
   "cell_type": "code",
   "execution_count": 58,
   "id": "63940ee8",
   "metadata": {},
   "outputs": [],
   "source": [
    "import numpy as np\n",
    "import pandas as pd\n",
    "import matplotlib.pyplot as plt\n",
    "import seaborn as sns\n",
    "from sklearn.preprocessing import StandardScaler, OneHotEncoder\n",
    "from sklearn.cluster import KMeans, DBSCAN, AgglomerativeClustering\n",
    "from sklearn.metrics import silhouette_score, adjusted_rand_score\n",
    "from sklearn.decomposition import PCA"
   ]
  },
  {
   "cell_type": "code",
   "execution_count": 59,
   "id": "7309572b",
   "metadata": {},
   "outputs": [],
   "source": [
    "url = \"C:\\\\Users\\\\Asus\\\\Downloads\\\\fifa_players.csv2\\\\fifa_players.csv\"\n",
    "data_raw = pd.read_csv(url)"
   ]
  },
  {
   "cell_type": "markdown",
   "id": "824819fa",
   "metadata": {},
   "source": [
    "Таблица содержит данные о футболистах (гражданство, рос, вес, позиции на поле, трансферная стоимость, зарплата, общий рейтинг и потенциал в FIFA, характеристика в FIFA)\n",
    "Полностью таблица не нужна."
   ]
  },
  {
   "cell_type": "code",
   "execution_count": 60,
   "id": "578731d9",
   "metadata": {},
   "outputs": [
    {
     "data": {
      "text/plain": [
       "(17954, 51)"
      ]
     },
     "execution_count": 60,
     "metadata": {},
     "output_type": "execute_result"
    }
   ],
   "source": [
    "data_raw.shape"
   ]
  },
  {
   "cell_type": "code",
   "execution_count": 61,
   "id": "89c6d561",
   "metadata": {},
   "outputs": [],
   "source": [
    "pd.set_option('display.max_columns', None)  # показывать все столбцы"
   ]
  },
  {
   "cell_type": "code",
   "execution_count": 62,
   "id": "cdbbbaa9",
   "metadata": {},
   "outputs": [],
   "source": [
    "data_raw = data_raw.drop(data_raw.columns[13:51], axis = 1)\n",
    "data_raw = data_raw.drop(data_raw.columns[[1, 2, 5]], axis = 1)"
   ]
  },
  {
   "cell_type": "code",
   "execution_count": 63,
   "id": "78dd2a34",
   "metadata": {},
   "outputs": [],
   "source": [
    "data_raw = data_raw.drop(data_raw.columns[[3]], axis = 1)"
   ]
  },
  {
   "cell_type": "code",
   "execution_count": 64,
   "id": "4b9eaa16",
   "metadata": {},
   "outputs": [
    {
     "data": {
      "text/html": [
       "<div>\n",
       "<style scoped>\n",
       "    .dataframe tbody tr th:only-of-type {\n",
       "        vertical-align: middle;\n",
       "    }\n",
       "\n",
       "    .dataframe tbody tr th {\n",
       "        vertical-align: top;\n",
       "    }\n",
       "\n",
       "    .dataframe thead th {\n",
       "        text-align: right;\n",
       "    }\n",
       "</style>\n",
       "<table border=\"1\" class=\"dataframe\">\n",
       "  <thead>\n",
       "    <tr style=\"text-align: right;\">\n",
       "      <th></th>\n",
       "      <th>name</th>\n",
       "      <th>age</th>\n",
       "      <th>height_cm</th>\n",
       "      <th>nationality</th>\n",
       "      <th>overall_rating</th>\n",
       "      <th>potential</th>\n",
       "      <th>value_euro</th>\n",
       "      <th>wage_euro</th>\n",
       "      <th>preferred_foot</th>\n",
       "    </tr>\n",
       "  </thead>\n",
       "  <tbody>\n",
       "    <tr>\n",
       "      <th>0</th>\n",
       "      <td>L. Messi</td>\n",
       "      <td>31</td>\n",
       "      <td>170.18</td>\n",
       "      <td>Argentina</td>\n",
       "      <td>94</td>\n",
       "      <td>94</td>\n",
       "      <td>110500000.0</td>\n",
       "      <td>565000.0</td>\n",
       "      <td>Left</td>\n",
       "    </tr>\n",
       "    <tr>\n",
       "      <th>1</th>\n",
       "      <td>C. Eriksen</td>\n",
       "      <td>27</td>\n",
       "      <td>154.94</td>\n",
       "      <td>Denmark</td>\n",
       "      <td>88</td>\n",
       "      <td>89</td>\n",
       "      <td>69500000.0</td>\n",
       "      <td>205000.0</td>\n",
       "      <td>Right</td>\n",
       "    </tr>\n",
       "    <tr>\n",
       "      <th>2</th>\n",
       "      <td>P. Pogba</td>\n",
       "      <td>25</td>\n",
       "      <td>190.50</td>\n",
       "      <td>France</td>\n",
       "      <td>88</td>\n",
       "      <td>91</td>\n",
       "      <td>73000000.0</td>\n",
       "      <td>255000.0</td>\n",
       "      <td>Right</td>\n",
       "    </tr>\n",
       "    <tr>\n",
       "      <th>3</th>\n",
       "      <td>L. Insigne</td>\n",
       "      <td>27</td>\n",
       "      <td>162.56</td>\n",
       "      <td>Italy</td>\n",
       "      <td>88</td>\n",
       "      <td>88</td>\n",
       "      <td>62000000.0</td>\n",
       "      <td>165000.0</td>\n",
       "      <td>Right</td>\n",
       "    </tr>\n",
       "    <tr>\n",
       "      <th>4</th>\n",
       "      <td>K. Koulibaly</td>\n",
       "      <td>27</td>\n",
       "      <td>187.96</td>\n",
       "      <td>Senegal</td>\n",
       "      <td>88</td>\n",
       "      <td>91</td>\n",
       "      <td>60000000.0</td>\n",
       "      <td>135000.0</td>\n",
       "      <td>Right</td>\n",
       "    </tr>\n",
       "    <tr>\n",
       "      <th>...</th>\n",
       "      <td>...</td>\n",
       "      <td>...</td>\n",
       "      <td>...</td>\n",
       "      <td>...</td>\n",
       "      <td>...</td>\n",
       "      <td>...</td>\n",
       "      <td>...</td>\n",
       "      <td>...</td>\n",
       "      <td>...</td>\n",
       "    </tr>\n",
       "    <tr>\n",
       "      <th>17949</th>\n",
       "      <td>R. McKenzie</td>\n",
       "      <td>25</td>\n",
       "      <td>175.26</td>\n",
       "      <td>Scotland</td>\n",
       "      <td>67</td>\n",
       "      <td>70</td>\n",
       "      <td>975000.0</td>\n",
       "      <td>3000.0</td>\n",
       "      <td>Right</td>\n",
       "    </tr>\n",
       "    <tr>\n",
       "      <th>17950</th>\n",
       "      <td>M. Sipľak</td>\n",
       "      <td>23</td>\n",
       "      <td>182.88</td>\n",
       "      <td>Slovakia</td>\n",
       "      <td>59</td>\n",
       "      <td>67</td>\n",
       "      <td>190000.0</td>\n",
       "      <td>1000.0</td>\n",
       "      <td>Left</td>\n",
       "    </tr>\n",
       "    <tr>\n",
       "      <th>17951</th>\n",
       "      <td>J. Bekkema</td>\n",
       "      <td>22</td>\n",
       "      <td>185.42</td>\n",
       "      <td>Netherlands</td>\n",
       "      <td>59</td>\n",
       "      <td>67</td>\n",
       "      <td>170000.0</td>\n",
       "      <td>1000.0</td>\n",
       "      <td>Right</td>\n",
       "    </tr>\n",
       "    <tr>\n",
       "      <th>17952</th>\n",
       "      <td>A. Al Yami</td>\n",
       "      <td>21</td>\n",
       "      <td>175.26</td>\n",
       "      <td>Saudi Arabia</td>\n",
       "      <td>59</td>\n",
       "      <td>71</td>\n",
       "      <td>280000.0</td>\n",
       "      <td>4000.0</td>\n",
       "      <td>Right</td>\n",
       "    </tr>\n",
       "    <tr>\n",
       "      <th>17953</th>\n",
       "      <td>Júnior Brumado</td>\n",
       "      <td>19</td>\n",
       "      <td>190.50</td>\n",
       "      <td>Brazil</td>\n",
       "      <td>59</td>\n",
       "      <td>75</td>\n",
       "      <td>325000.0</td>\n",
       "      <td>2000.0</td>\n",
       "      <td>Right</td>\n",
       "    </tr>\n",
       "  </tbody>\n",
       "</table>\n",
       "<p>17954 rows × 9 columns</p>\n",
       "</div>"
      ],
      "text/plain": [
       "                 name  age  height_cm   nationality  overall_rating  \\\n",
       "0            L. Messi   31     170.18     Argentina              94   \n",
       "1          C. Eriksen   27     154.94       Denmark              88   \n",
       "2            P. Pogba   25     190.50        France              88   \n",
       "3          L. Insigne   27     162.56         Italy              88   \n",
       "4        K. Koulibaly   27     187.96       Senegal              88   \n",
       "...               ...  ...        ...           ...             ...   \n",
       "17949     R. McKenzie   25     175.26      Scotland              67   \n",
       "17950       M. Sipľak   23     182.88      Slovakia              59   \n",
       "17951      J. Bekkema   22     185.42   Netherlands              59   \n",
       "17952      A. Al Yami   21     175.26  Saudi Arabia              59   \n",
       "17953  Júnior Brumado   19     190.50        Brazil              59   \n",
       "\n",
       "       potential   value_euro  wage_euro preferred_foot  \n",
       "0             94  110500000.0   565000.0           Left  \n",
       "1             89   69500000.0   205000.0          Right  \n",
       "2             91   73000000.0   255000.0          Right  \n",
       "3             88   62000000.0   165000.0          Right  \n",
       "4             91   60000000.0   135000.0          Right  \n",
       "...          ...          ...        ...            ...  \n",
       "17949         70     975000.0     3000.0          Right  \n",
       "17950         67     190000.0     1000.0           Left  \n",
       "17951         67     170000.0     1000.0          Right  \n",
       "17952         71     280000.0     4000.0          Right  \n",
       "17953         75     325000.0     2000.0          Right  \n",
       "\n",
       "[17954 rows x 9 columns]"
      ]
     },
     "execution_count": 64,
     "metadata": {},
     "output_type": "execute_result"
    }
   ],
   "source": [
    "data_raw"
   ]
  },
  {
   "cell_type": "code",
   "execution_count": 65,
   "id": "7f9f704c",
   "metadata": {},
   "outputs": [
    {
     "data": {
      "text/plain": [
       "(17954, 9)"
      ]
     },
     "execution_count": 65,
     "metadata": {},
     "output_type": "execute_result"
    }
   ],
   "source": [
    "data_raw.shape"
   ]
  },
  {
   "cell_type": "code",
   "execution_count": 66,
   "id": "e77be384",
   "metadata": {},
   "outputs": [
    {
     "name": "stdout",
     "output_type": "stream",
     "text": [
      "<class 'pandas.core.frame.DataFrame'>\n",
      "RangeIndex: 17954 entries, 0 to 17953\n",
      "Data columns (total 9 columns):\n",
      " #   Column          Non-Null Count  Dtype  \n",
      "---  ------          --------------  -----  \n",
      " 0   name            17954 non-null  object \n",
      " 1   age             17954 non-null  int64  \n",
      " 2   height_cm       17954 non-null  float64\n",
      " 3   nationality     17954 non-null  object \n",
      " 4   overall_rating  17954 non-null  int64  \n",
      " 5   potential       17954 non-null  int64  \n",
      " 6   value_euro      17699 non-null  float64\n",
      " 7   wage_euro       17708 non-null  float64\n",
      " 8   preferred_foot  17954 non-null  object \n",
      "dtypes: float64(3), int64(3), object(3)\n",
      "memory usage: 1.2+ MB\n"
     ]
    }
   ],
   "source": [
    "data_raw.info()"
   ]
  },
  {
   "cell_type": "markdown",
   "id": "63954460",
   "metadata": {},
   "source": [
    " 0   name             \n",
    " 1   age               \n",
    " 2   height_cm             \n",
    " 3   positions - позиции, на которых играет футболист (номинальный)      \n",
    " 4   nationality - национальность игрока (номинальный)     \n",
    " 5   overall_rating    \n",
    " 6   potential         \n",
    " 7   value_euro      \n",
    " 8   wage_euro       \n",
    " 9  preferred_foot - рабочая нога (бинарный)"
   ]
  },
  {
   "cell_type": "code",
   "execution_count": 67,
   "id": "52190a5b",
   "metadata": {},
   "outputs": [],
   "source": [
    "data_raw['nationality'] = data_raw['nationality'].astype('category')\n",
    "data_raw['preferred_foot'] = data_raw['preferred_foot'].astype('category')"
   ]
  },
  {
   "cell_type": "code",
   "execution_count": 68,
   "id": "dc7df8b0",
   "metadata": {},
   "outputs": [
    {
     "data": {
      "text/plain": [
       "CategoricalDtype(categories=['Afghanistan', 'Albania', 'Algeria', 'Andorra', 'Angola',\n",
       "                  'Antigua & Barbuda', 'Argentina', 'Armenia', 'Australia',\n",
       "                  'Austria',\n",
       "                  ...\n",
       "                  'United Arab Emirates', 'United States', 'Uruguay',\n",
       "                  'Uzbekistan', 'Venezuela', 'Vietnam', 'Wales', 'Yemen',\n",
       "                  'Zambia', 'Zimbabwe'],\n",
       ", ordered=False)"
      ]
     },
     "execution_count": 68,
     "metadata": {},
     "output_type": "execute_result"
    }
   ],
   "source": [
    "data_raw['nationality'].dtype"
   ]
  },
  {
   "cell_type": "code",
   "execution_count": 69,
   "id": "e87e6210",
   "metadata": {},
   "outputs": [
    {
     "data": {
      "text/plain": [
       "CategoricalDtype(categories=['Left', 'Right'], ordered=False)"
      ]
     },
     "execution_count": 69,
     "metadata": {},
     "output_type": "execute_result"
    }
   ],
   "source": [
    "data_raw['preferred_foot'].dtype"
   ]
  },
  {
   "cell_type": "markdown",
   "id": "fa2816a7",
   "metadata": {},
   "source": [
    "информация о числовых признаках"
   ]
  },
  {
   "cell_type": "code",
   "execution_count": 70,
   "id": "89cbb6a4",
   "metadata": {},
   "outputs": [
    {
     "data": {
      "text/html": [
       "<div>\n",
       "<style scoped>\n",
       "    .dataframe tbody tr th:only-of-type {\n",
       "        vertical-align: middle;\n",
       "    }\n",
       "\n",
       "    .dataframe tbody tr th {\n",
       "        vertical-align: top;\n",
       "    }\n",
       "\n",
       "    .dataframe thead th {\n",
       "        text-align: right;\n",
       "    }\n",
       "</style>\n",
       "<table border=\"1\" class=\"dataframe\">\n",
       "  <thead>\n",
       "    <tr style=\"text-align: right;\">\n",
       "      <th></th>\n",
       "      <th>age</th>\n",
       "      <th>height_cm</th>\n",
       "      <th>overall_rating</th>\n",
       "      <th>potential</th>\n",
       "      <th>value_euro</th>\n",
       "      <th>wage_euro</th>\n",
       "    </tr>\n",
       "  </thead>\n",
       "  <tbody>\n",
       "    <tr>\n",
       "      <th>count</th>\n",
       "      <td>17954.000000</td>\n",
       "      <td>17954.000000</td>\n",
       "      <td>17954.000000</td>\n",
       "      <td>17954.000000</td>\n",
       "      <td>1.769900e+04</td>\n",
       "      <td>17708.000000</td>\n",
       "    </tr>\n",
       "    <tr>\n",
       "      <th>mean</th>\n",
       "      <td>25.565445</td>\n",
       "      <td>174.946921</td>\n",
       "      <td>66.240169</td>\n",
       "      <td>71.430935</td>\n",
       "      <td>2.479280e+06</td>\n",
       "      <td>9902.134628</td>\n",
       "    </tr>\n",
       "    <tr>\n",
       "      <th>std</th>\n",
       "      <td>4.705708</td>\n",
       "      <td>14.029449</td>\n",
       "      <td>6.963730</td>\n",
       "      <td>6.131339</td>\n",
       "      <td>5.687014e+06</td>\n",
       "      <td>21995.593750</td>\n",
       "    </tr>\n",
       "    <tr>\n",
       "      <th>min</th>\n",
       "      <td>17.000000</td>\n",
       "      <td>152.400000</td>\n",
       "      <td>47.000000</td>\n",
       "      <td>48.000000</td>\n",
       "      <td>1.000000e+04</td>\n",
       "      <td>1000.000000</td>\n",
       "    </tr>\n",
       "    <tr>\n",
       "      <th>25%</th>\n",
       "      <td>22.000000</td>\n",
       "      <td>154.940000</td>\n",
       "      <td>62.000000</td>\n",
       "      <td>67.000000</td>\n",
       "      <td>3.250000e+05</td>\n",
       "      <td>1000.000000</td>\n",
       "    </tr>\n",
       "    <tr>\n",
       "      <th>50%</th>\n",
       "      <td>25.000000</td>\n",
       "      <td>175.260000</td>\n",
       "      <td>66.000000</td>\n",
       "      <td>71.000000</td>\n",
       "      <td>7.000000e+05</td>\n",
       "      <td>3000.000000</td>\n",
       "    </tr>\n",
       "    <tr>\n",
       "      <th>75%</th>\n",
       "      <td>29.000000</td>\n",
       "      <td>185.420000</td>\n",
       "      <td>71.000000</td>\n",
       "      <td>75.000000</td>\n",
       "      <td>2.100000e+06</td>\n",
       "      <td>9000.000000</td>\n",
       "    </tr>\n",
       "    <tr>\n",
       "      <th>max</th>\n",
       "      <td>46.000000</td>\n",
       "      <td>205.740000</td>\n",
       "      <td>94.000000</td>\n",
       "      <td>95.000000</td>\n",
       "      <td>1.105000e+08</td>\n",
       "      <td>565000.000000</td>\n",
       "    </tr>\n",
       "  </tbody>\n",
       "</table>\n",
       "</div>"
      ],
      "text/plain": [
       "                age     height_cm  overall_rating     potential    value_euro  \\\n",
       "count  17954.000000  17954.000000    17954.000000  17954.000000  1.769900e+04   \n",
       "mean      25.565445    174.946921       66.240169     71.430935  2.479280e+06   \n",
       "std        4.705708     14.029449        6.963730      6.131339  5.687014e+06   \n",
       "min       17.000000    152.400000       47.000000     48.000000  1.000000e+04   \n",
       "25%       22.000000    154.940000       62.000000     67.000000  3.250000e+05   \n",
       "50%       25.000000    175.260000       66.000000     71.000000  7.000000e+05   \n",
       "75%       29.000000    185.420000       71.000000     75.000000  2.100000e+06   \n",
       "max       46.000000    205.740000       94.000000     95.000000  1.105000e+08   \n",
       "\n",
       "           wage_euro  \n",
       "count   17708.000000  \n",
       "mean     9902.134628  \n",
       "std     21995.593750  \n",
       "min      1000.000000  \n",
       "25%      1000.000000  \n",
       "50%      3000.000000  \n",
       "75%      9000.000000  \n",
       "max    565000.000000  "
      ]
     },
     "execution_count": 70,
     "metadata": {},
     "output_type": "execute_result"
    }
   ],
   "source": [
    "data_raw.describe()"
   ]
  },
  {
   "cell_type": "code",
   "execution_count": 71,
   "id": "b573bd30",
   "metadata": {},
   "outputs": [
    {
     "data": {
      "text/html": [
       "<div>\n",
       "<style scoped>\n",
       "    .dataframe tbody tr th:only-of-type {\n",
       "        vertical-align: middle;\n",
       "    }\n",
       "\n",
       "    .dataframe tbody tr th {\n",
       "        vertical-align: top;\n",
       "    }\n",
       "\n",
       "    .dataframe thead th {\n",
       "        text-align: right;\n",
       "    }\n",
       "</style>\n",
       "<table border=\"1\" class=\"dataframe\">\n",
       "  <thead>\n",
       "    <tr style=\"text-align: right;\">\n",
       "      <th></th>\n",
       "      <th>nationality</th>\n",
       "      <th>preferred_foot</th>\n",
       "    </tr>\n",
       "  </thead>\n",
       "  <tbody>\n",
       "    <tr>\n",
       "      <th>count</th>\n",
       "      <td>17954</td>\n",
       "      <td>17954</td>\n",
       "    </tr>\n",
       "    <tr>\n",
       "      <th>unique</th>\n",
       "      <td>160</td>\n",
       "      <td>2</td>\n",
       "    </tr>\n",
       "    <tr>\n",
       "      <th>top</th>\n",
       "      <td>England</td>\n",
       "      <td>Right</td>\n",
       "    </tr>\n",
       "    <tr>\n",
       "      <th>freq</th>\n",
       "      <td>1658</td>\n",
       "      <td>13781</td>\n",
       "    </tr>\n",
       "  </tbody>\n",
       "</table>\n",
       "</div>"
      ],
      "text/plain": [
       "       nationality preferred_foot\n",
       "count        17954          17954\n",
       "unique         160              2\n",
       "top        England          Right\n",
       "freq          1658          13781"
      ]
     },
     "execution_count": 71,
     "metadata": {},
     "output_type": "execute_result"
    }
   ],
   "source": [
    "data_raw.describe(include=['category'])"
   ]
  },
  {
   "cell_type": "markdown",
   "id": "4d9c0f58",
   "metadata": {},
   "source": [
    "Пропущенные значения"
   ]
  },
  {
   "cell_type": "code",
   "execution_count": 72,
   "id": "1431c23c",
   "metadata": {},
   "outputs": [
    {
     "data": {
      "text/plain": [
       "name                0\n",
       "age                 0\n",
       "height_cm           0\n",
       "nationality         0\n",
       "overall_rating      0\n",
       "potential           0\n",
       "value_euro        255\n",
       "wage_euro         246\n",
       "preferred_foot      0\n",
       "dtype: int64"
      ]
     },
     "execution_count": 72,
     "metadata": {},
     "output_type": "execute_result"
    }
   ],
   "source": [
    "data_raw.isnull().sum()"
   ]
  },
  {
   "cell_type": "code",
   "execution_count": 73,
   "id": "96ffba3e",
   "metadata": {},
   "outputs": [],
   "source": [
    "data_raw = data_raw.dropna()"
   ]
  },
  {
   "cell_type": "code",
   "execution_count": 74,
   "id": "99597821",
   "metadata": {},
   "outputs": [
    {
     "data": {
      "text/plain": [
       "name              0\n",
       "age               0\n",
       "height_cm         0\n",
       "nationality       0\n",
       "overall_rating    0\n",
       "potential         0\n",
       "value_euro        0\n",
       "wage_euro         0\n",
       "preferred_foot    0\n",
       "dtype: int64"
      ]
     },
     "execution_count": 74,
     "metadata": {},
     "output_type": "execute_result"
    }
   ],
   "source": [
    "data_raw.isnull().sum()"
   ]
  },
  {
   "cell_type": "code",
   "execution_count": 75,
   "id": "5ef59b77",
   "metadata": {},
   "outputs": [],
   "source": [
    "data_raw.set_index(data_raw.columns[0], inplace = True)"
   ]
  },
  {
   "cell_type": "code",
   "execution_count": 76,
   "id": "62ab76ee",
   "metadata": {},
   "outputs": [
    {
     "data": {
      "text/plain": [
       "Index(['L. Messi', 'C. Eriksen', 'P. Pogba', 'L. Insigne', 'K. Koulibaly',\n",
       "       'V. van Dijk', 'K. Mbappé', 'S. Agüero', 'M. Neuer', 'E. Cavani',\n",
       "       ...\n",
       "       'Cristiano Ronaldo', 'J. Serra', 'A. Rodriguez', 'A. Calisir',\n",
       "       'R. Torres', 'R. McKenzie', 'M. Sipľak', 'J. Bekkema', 'A. Al Yami',\n",
       "       'Júnior Brumado'],\n",
       "      dtype='object', name='name', length=17699)"
      ]
     },
     "execution_count": 76,
     "metadata": {},
     "output_type": "execute_result"
    }
   ],
   "source": [
    "data_raw.index"
   ]
  },
  {
   "cell_type": "code",
   "execution_count": 77,
   "id": "905307b8",
   "metadata": {},
   "outputs": [
    {
     "data": {
      "text/plain": [
       "(17489, 8)"
      ]
     },
     "execution_count": 77,
     "metadata": {},
     "output_type": "execute_result"
    }
   ],
   "source": [
    "rows_to_drop = data_raw[\n",
    "    (data_raw['value_euro'] < data_raw['value_euro'].quantile(0.005)) | (data_raw['value_euro'] > data_raw['value_euro'].quantile(0.995)) |\n",
    "    (data_raw['age']  < data_raw['age' ].quantile(0.005)) | (data_raw['age']  > data_raw['age'].quantile(0.995))].index\n",
    "data = data_raw.drop(rows_to_drop)\n",
    "data.shape"
   ]
  },
  {
   "cell_type": "code",
   "execution_count": 78,
   "id": "61136ccc",
   "metadata": {},
   "outputs": [],
   "source": [
    "X = data_raw.drop(['value_euro', 'height_cm', 'age', 'nationality'], axis=1)"
   ]
  },
  {
   "cell_type": "code",
   "execution_count": 79,
   "id": "851f9a5d",
   "metadata": {},
   "outputs": [
    {
     "name": "stderr",
     "output_type": "stream",
     "text": [
      "C:\\Users\\Asus\\anaconda3\\Lib\\site-packages\\sklearn\\preprocessing\\_encoders.py:972: FutureWarning: `sparse` was renamed to `sparse_output` in version 1.2 and will be removed in 1.4. `sparse_output` is ignored unless you leave `sparse` to its default value.\n",
      "  warnings.warn(\n"
     ]
    }
   ],
   "source": [
    "# Кодирование бинарных категориальных переменных\n",
    "enc = OneHotEncoder(drop='if_binary', sparse=False)  # Используем One-Hot Encoding для бинарных категорий\n",
    "encoded_features = enc.fit_transform(X[['preferred_foot']])  # Кодируем признак \"preferred_foot\"\n",
    "encoded_df = pd.DataFrame(encoded_features, columns=enc.get_feature_names_out(), index=X.index)"
   ]
  },
  {
   "cell_type": "code",
   "execution_count": 80,
   "id": "598b985e",
   "metadata": {},
   "outputs": [],
   "source": [
    "X = pd.concat([X.drop(['preferred_foot'], axis=1), encoded_df], axis=1)"
   ]
  },
  {
   "cell_type": "code",
   "execution_count": 81,
   "id": "d7447e66",
   "metadata": {},
   "outputs": [],
   "source": [
    "# Стандартизация данных\n",
    "scaler = StandardScaler()\n",
    "X_scaled = scaler.fit_transform(X)"
   ]
  },
  {
   "cell_type": "code",
   "execution_count": 82,
   "id": "ff5a793e",
   "metadata": {},
   "outputs": [
    {
     "name": "stderr",
     "output_type": "stream",
     "text": [
      "C:\\Users\\Asus\\anaconda3\\Lib\\site-packages\\sklearn\\cluster\\_kmeans.py:1412: FutureWarning: The default value of `n_init` will change from 10 to 'auto' in 1.4. Set the value of `n_init` explicitly to suppress the warning\n",
      "  super()._check_params_vs_input(X, default_n_init=10)\n"
     ]
    }
   ],
   "source": [
    "# Кластеризация методом KMeans\n",
    "kmeans = KMeans(n_clusters=3, random_state=42)  # Задаем количество кластеров = 3\n",
    "kmeans_labels = kmeans.fit_predict(X_scaled)  # Выполняем кластеризацию\n",
    "kmeans_silhouette = silhouette_score(X_scaled, kmeans_labels)"
   ]
  },
  {
   "cell_type": "code",
   "execution_count": 83,
   "id": "a67b1d9e",
   "metadata": {},
   "outputs": [],
   "source": [
    "# Кластеризация методом DBSCAN\n",
    "dbscan = DBSCAN(eps=1.5, min_samples=5)  # Задаем параметры DBSCAN\n",
    "dbscan_labels = dbscan.fit_predict(X_scaled)  # Выполняем кластеризацию\n",
    "unique_dbscan_clusters = len(set(dbscan_labels)) - (1 if -1 in dbscan_labels else 0)  # Считаем количество уникальных кластеров\n",
    "if unique_dbscan_clusters > 1:\n",
    "    dbscan_silhouette = silhouette_score(X_scaled[dbscan_labels != -1], dbscan_labels[dbscan_labels != -1])  # Вычисляем силуэт для точек, не отнесенных к шуму\n",
    "else:\n",
    "    dbscan_silhouette = None"
   ]
  },
  {
   "cell_type": "code",
   "execution_count": 84,
   "id": "a8997280",
   "metadata": {},
   "outputs": [],
   "source": [
    "# Кластеризация методом агломеративной кластеризации\n",
    "agg_clustering = AgglomerativeClustering(n_clusters=3)  # Задаем количество кластеров = 3\n",
    "agg_labels = agg_clustering.fit_predict(X_scaled)  # Выполняем кластеризацию\n",
    "agg_silhouette = silhouette_score(X_scaled, agg_labels)"
   ]
  },
  {
   "cell_type": "code",
   "execution_count": 85,
   "id": "6e5f9240",
   "metadata": {},
   "outputs": [
    {
     "data": {
      "text/plain": [
       "<Figure size 1800x600 with 0 Axes>"
      ]
     },
     "execution_count": 85,
     "metadata": {},
     "output_type": "execute_result"
    },
    {
     "data": {
      "text/plain": [
       "<Figure size 1800x600 with 0 Axes>"
      ]
     },
     "metadata": {},
     "output_type": "display_data"
    }
   ],
   "source": [
    "# Снижение размерности для визуализации\n",
    "pca = PCA(n_components=2)  # Уменьшаем размерность до двух компонент\n",
    "X_pca = pca.fit_transform(X_scaled)  # Преобразуем данные\n",
    "plt.figure(figsize=(18, 6))"
   ]
  },
  {
   "cell_type": "code",
   "execution_count": 86,
   "id": "bf89c929",
   "metadata": {},
   "outputs": [
    {
     "data": {
      "text/plain": [
       "Text(0, 0.5, 'PCA Component 2')"
      ]
     },
     "execution_count": 86,
     "metadata": {},
     "output_type": "execute_result"
    },
    {
     "data": {
      "image/png": "[encoded data removed]",
      "text/plain": [
       "<Figure size 640x480 with 1 Axes>"
      ]
     },
     "metadata": {},
     "output_type": "display_data"
    }
   ],
   "source": [
    "# Визуализация кластеров KMeans\n",
    "plt.subplot(1, 3, 1)\n",
    "plt.scatter(X_pca[:, 0], X_pca[:, 1], c=kmeans_labels, cmap='viridis', s=10)  # Отображаем кластеры KMeans\n",
    "plt.title('KMeans Clustering')\n",
    "plt.xlabel('PCA Component 1')\n",
    "plt.ylabel('PCA Component 2')"
   ]
  },
  {
   "cell_type": "code",
   "execution_count": 87,
   "id": "3c1bcf75",
   "metadata": {},
   "outputs": [
    {
     "data": {
      "text/plain": [
       "Text(0, 0.5, 'PCA Component 2')"
      ]
     },
     "execution_count": 87,
     "metadata": {},
     "output_type": "execute_result"
    },
    {
     "data": {
      "image/png": "[encoded data removed]",
      "text/plain": [
       "<Figure size 640x480 with 1 Axes>"
      ]
     },
     "metadata": {},
     "output_type": "display_data"
    }
   ],
   "source": [
    "# Визуализация кластеров DBSCAN\n",
    "plt.subplot(1, 3, 2)\n",
    "plt.scatter(X_pca[:, 0], X_pca[:, 1], c=dbscan_labels, cmap='viridis', s=10)  # Отображаем кластеры DBSCAN\n",
    "plt.title('DBSCAN Clustering')\n",
    "plt.xlabel('PCA Component 1')\n",
    "plt.ylabel('PCA Component 2')"
   ]
  },
  {
   "cell_type": "code",
   "execution_count": 88,
   "id": "00ed5496",
   "metadata": {},
   "outputs": [
    {
     "data": {
      "image/png": "[encoded data removed]",
      "text/plain": [
       "<Figure size 640x480 with 1 Axes>"
      ]
     },
     "metadata": {},
     "output_type": "display_data"
    }
   ],
   "source": [
    "# Визуализация кластеров агломеративной кластеризации\n",
    "plt.subplot(1, 3, 3)\n",
    "plt.scatter(X_pca[:, 0], X_pca[:, 1], c=agg_labels, cmap='viridis', s=10)  # Отображаем кластеры агломеративной кластеризации\n",
    "plt.title('Agglomerative Clustering')\n",
    "plt.xlabel('PCA Component 1')\n",
    "plt.ylabel('PCA Component 2')\n",
    "\n",
    "plt.tight_layout()\n",
    "plt.show()\n"
   ]
  },
  {
   "cell_type": "code",
   "execution_count": 89,
   "id": "108ee465",
   "metadata": {},
   "outputs": [
    {
     "name": "stdout",
     "output_type": "stream",
     "text": [
      "KMeans Silhouette Score: 0.4311559737244766\n",
      "DBSCAN Silhouette Score: 0.4100717351767051\n",
      "Agglomerative Clustering Silhouette Score: 0.36829045915697667\n"
     ]
    }
   ],
   "source": [
    "# Сравнение результатов кластеризации\n",
    "print(f\"KMeans Silhouette Score: {kmeans_silhouette}\")  # Выводим силуэт для KMeans\n",
    "print(f\"DBSCAN Silhouette Score: {dbscan_silhouette}\")  # Выводим силуэт для DBSCAN\n",
    "print(f\"Agglomerative Clustering Silhouette Score: {agg_silhouette}\")  # Выводим силуэт для агломеративной кластеризации"
   ]
  },
  {
   "cell_type": "markdown",
   "id": "261af267",
   "metadata": {},
   "source": [
    "# Методы кластеризации\n",
    "\n",
    "## Метод KMeans\n",
    "Метод KMeans основан на итеративном разбиении данных на заданное количество кластеров $k$. Цель алгоритма — минимизация внутрикластерного расстояния, т.е. расстояния между точками внутри кластера и их центроидом.\n",
    "\n",
    "**Преимущества:**\n",
    "- Простота реализации и высокая скорость работы.\n",
    "- Хорошо работает для данных с четко разделенными группами.\n",
    "\n",
    "**Недостатки:**\n",
    "- Требует предварительного задания числа кластеров.\n",
    "- Чувствителен к начальной инициализации центроидов.\n",
    "- Не подходит для кластеров сложной формы или неравномерной плотности.\n",
    "\n",
    "## Метод DBSCAN\n",
    "DBSCAN (Density-Based Spatial Clustering of Applications with Noise) выделяет кластеры на основе плотности точек. Основной принцип — объединение в кластер всех точек, находящихся в пределах заданного радиуса ($\\varepsilon$) от точки, если их количество превышает порог ($min\\_samples$).\n",
    "\n",
    "**Преимущества:**\n",
    "- Способен выделять кластеры произвольной формы.\n",
    "- Устойчив к шуму в данных.\n",
    "- Не требует задания числа кластеров заранее.\n",
    "\n",
    "**Недостатки:**\n",
    "- Чувствителен к параметрам $\\varepsilon$ и $min\\_samples$.\n",
    "- Может не выделять кластеры в разреженных данных.\n",
    "\n",
    "## Агломеративная кластеризация\n",
    "Агломеративная кластеризация является иерархическим методом, который начинает с каждой точки как отдельного кластера и итеративно объединяет ближайшие пары кластеров до достижения заданного количества кластеров.\n",
    "\n",
    "**Преимущества:**\n",
    "- Предоставляет иерархическое представление данных.\n",
    "- Хорошо работает с небольшими наборами данных.\n",
    "\n",
    "**Недостатки:**\n",
    "- Высокая вычислительная сложность для больших наборов данных.\n",
    "- Требует задания числа кластеров.\n",
    "\n",
    "# Результаты\n",
    "\n",
    "## KMeans\n",
    "Метод KMeans показал хорошие результаты на выбранных данных, разделив их на три кластера, умеренное качество кластеризации. Кластеры имеют четкие границы, что подтверждается визуализацией после снижения размерности.\n",
    "\n",
    "## DBSCAN\n",
    "DBSCAN не смог выделить значимых кластеров при начальных параметрах ($\\varepsilon=1.5$, $min\\_samples=5$), так как значительная часть точек была помечена как шум. Настройка параметров и снижение размерности с помощью PCA улучшили результаты, но метод все еще показал низкую степень разделения кластеров.\n",
    "\n",
    "## Агломеративная кластеризация\n",
    "Агломеративная кластеризация продемонстрировала результаты, сопоставимые с KMeans. Метод хорошо выделил группы, что также подтверждается визуализацией.\n",
    "\n",
    "# Заключение\n",
    "В ходе работы было проведено сравнение методов кластеризации. Основные выводы:\n",
    "- **KMeans** — лучше всего подходит для данных с четкими границами между группами.\n",
    "- **DBSCAN** — эффективен для кластеров произвольной формы, но требует тщательной настройки параметров.\n",
    "- **Агломеративная кластеризация** — надежный метод для иерархического анализа данных, показал хорошие результаты.\n"
   ]
  },
  {
   "cell_type": "code",
   "execution_count": null,
   "id": "86c0dc6f",
   "metadata": {},
   "outputs": [],
   "source": []
  }
 ],
 "metadata": {
  "kernelspec": {
   "display_name": "Python 3 (ipykernel)",
   "language": "python",
   "name": "python3"
  },
  "language_info": {
   "codemirror_mode": {
    "name": "ipython",
    "version": 3
   },
   "file_extension": ".py",
   "mimetype": "text/x-python",
   "name": "python",
   "nbconvert_exporter": "python",
   "pygments_lexer": "ipython3",
   "version": "3.11.4"
  }
 },
 "nbformat": 4,
 "nbformat_minor": 5
}
